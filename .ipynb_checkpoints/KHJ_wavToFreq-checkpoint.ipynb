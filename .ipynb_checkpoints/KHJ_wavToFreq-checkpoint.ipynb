{
 "cells": [
  {
   "cell_type": "markdown",
   "metadata": {},
   "source": [
    "filetype wav download\n",
    "[chiken.wav](http://www.bigsoundbank.com/sound-0978-hens-lays.html)"
   ]
  },
  {
   "cell_type": "markdown",
   "metadata": {},
   "source": [
    "https://stackoverflow.com/questions/2648151/python-frequency-detection"
   ]
  },
  {
   "cell_type": "code",
   "execution_count": null,
   "metadata": {
    "collapsed": true
   },
   "outputs": [],
   "source": [
    "!pip install pyaudio\n",
    "!pip install wave"
   ]
  },
  {
   "cell_type": "code",
   "execution_count": 3,
   "metadata": {
    "collapsed": true
   },
   "outputs": [],
   "source": [
    "import pyaudio\n",
    "import wave\n",
    "import numpy as np"
   ]
  },
  {
   "cell_type": "code",
   "execution_count": 9,
   "metadata": {},
   "outputs": [],
   "source": [
    "chunk = 2048\n",
    "\n",
    "wavFile= \"383159__idabrandao__water-from-tap.wav\"\n",
    "wf = wave.open('data/'+wavFile, 'rb')\n",
    "\n",
    "swidth = wf.getsampwidth()\n",
    "RATE = wf.getframerate()\n",
    "# use a Blackman window\n",
    "window = np.blackman(chunk)\n",
    "# open stream\n",
    "p = pyaudio.PyAudio()\n",
    "stream = p.open(format =\n",
    "                p.get_format_from_width(wf.getsampwidth()),\n",
    "                channels = wf.getnchannels(),\n",
    "                rate = RATE,\n",
    "                output = True)\n",
    "\n",
    "# read some data\n",
    "data = wf.readframes(chunk)\n",
    "\n",
    "\n",
    "# play stream and find the frequency of each chunk\n",
    "while len(data) == chunk*swidth:\n",
    "    # write data out to the audio stream\n",
    "    stream.write(data)\n",
    "    # unpack the data and times by the hamming window\n",
    "    indata = np.array(wave.struct.unpack(\"%dh\"%(len(data)/swidth),\\\n",
    "                                         data))*window\n",
    "    # Take the fft and square each value\n",
    "    fftData=abs(np.fft.rfft(indata))**2\n",
    "    # find the maximum\n",
    "    which = fftData[1:].argmax() + 1\n",
    "    # use quadratic interpolation around the max\n",
    "    if which != len(fftData)-1:\n",
    "        y0,y1,y2 = np.log(fftData[which-1:which+2:])\n",
    "        x1 = (y2 - y0) * .5 / (2 * y1 - y2 - y0)\n",
    "        # find the frequency and output it\n",
    "        thefreq = (which+x1)*RATE/chunk\n",
    "        print(\"The freq is %f Hz.\" % (thefreq))\n",
    "    else:\n",
    "        thefreq = which*RATE/chunk\n",
    "        print(\"The freq is %f Hz.\" % (thefreq))\n",
    "    # read some more data\n",
    "    data = wf.readframes(chunk)\n",
    "if data:\n",
    "    stream.write(data)\n",
    "stream.close()\n",
    "p.terminate()"
   ]
  },
  {
   "cell_type": "code",
   "execution_count": null,
   "metadata": {
    "collapsed": true
   },
   "outputs": [],
   "source": []
  }
 ],
 "metadata": {
  "kernelspec": {
   "display_name": "Python 3",
   "language": "python",
   "name": "python3"
  },
  "language_info": {
   "codemirror_mode": {
    "name": "ipython",
    "version": 3
   },
   "file_extension": ".py",
   "mimetype": "text/x-python",
   "name": "python",
   "nbconvert_exporter": "python",
   "pygments_lexer": "ipython3",
   "version": "3.6.3"
  }
 },
 "nbformat": 4,
 "nbformat_minor": 2
}
