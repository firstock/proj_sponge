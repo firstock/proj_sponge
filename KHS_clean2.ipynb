{
 "cells": [
  {
   "cell_type": "markdown",
   "metadata": {},
   "source": [
    "## 10초컷"
   ]
  },
  {
   "cell_type": "code",
   "execution_count": 1,
   "metadata": {},
   "outputs": [],
   "source": [
    "#!pip install pydub"
   ]
  },
  {
   "cell_type": "code",
   "execution_count": 1,
   "metadata": {},
   "outputs": [
    {
     "name": "stderr",
     "output_type": "stream",
     "text": [
      "C:\\ProgramData\\Anaconda3\\lib\\site-packages\\pydub\\utils.py:165: RuntimeWarning: Couldn't find ffmpeg or avconv - defaulting to ffmpeg, but may not work\n",
      "  warn(\"Couldn't find ffmpeg or avconv - defaulting to ffmpeg, but may not work\", RuntimeWarning)\n"
     ]
    }
   ],
   "source": [
    "import pydub"
   ]
  },
  {
   "cell_type": "code",
   "execution_count": 2,
   "metadata": {},
   "outputs": [],
   "source": [
    "import pydub"
   ]
  },
  {
   "cell_type": "code",
   "execution_count": 3,
   "metadata": {},
   "outputs": [],
   "source": [
    "from pydub import AudioSegment"
   ]
  },
  {
   "cell_type": "code",
   "execution_count": 4,
   "metadata": {},
   "outputs": [],
   "source": [
    "audioSampleList = [\n",
    "#     \"101488__earthsounds__slow-drip-into-sink.wav\",\n",
    "#     \"115806__dymewiz__rain-01.wav\",\n",
    "#     \"168651__0xmusex0__bathfill.wav\",\n",
    "#     \"18809__koops__rain-pouring-03-loop.wav\",\n",
    "#     \"197220__jymdavis__creek-sounds-in-georgia.wav\",\n",
    "#     \"23295__mab__mab-water-pzm-sass.wav\",\n",
    "#     \"250387__lostphosphene__stream-water-5.wav\",\n",
    "#     \"268578__7h3-lark__rain-thunder-water-stereo.wav\",\n",
    "#     \"276948__maxxmore__water-is-pour-into-glass.wav\",\n",
    "#     \"322314__crizza2000__tap-water-going-down-the-drain.wav\",\n",
    "#     \"327844__acinjc__shower-rear.wav\",\n",
    "#     \"335992__inspectorj__waterfall-large-a.wav\",\n",
    "#     \"339324__inspectorj__stream-water-c.wav\",\n",
    "#     \"352962__shain-t__waterambiance01.wav\",\n",
    "#     \"353195__inspectorj__shower-a.wav\",\n",
    "#     \"364996__saul92__agua-sobre-un-recipiente.wav\",\n",
    "#     \"365919__inspectorj__waterfall-small-d.wav\",\n",
    "#     \"376952__maxxmore__little-creek.wav\",\n",
    "#     \"384181__xiiisamples__filling-bucket-with-water.wav\",\n",
    "#     \"397263__thebraindrinker__field-recording-bathroom-water-clanging-metal.wav\",\n",
    "#     \"408296__vince2323__washing-hands-1.wav\",\n",
    "#     \"412843__inspectorj__boiling-water-large-a.wav\",\n",
    "#     \"415053__straget__brook-2.wav\",\n",
    "#     \"423924__outofphaze__weir-cu2.wav\",\n",
    "#     \"46743__rewired__18-water.wav\",\n",
    "#     \"66644__benboncan__mountain-stream-loopable.wav\",\n",
    "#     \"66787__mattj99__bubbling02.wav\",\n",
    "#     \"75306__camalbio__cave003.wav\",\n",
    "#     \"water-flowing1.wav\"\n",
    "]"
   ]
  },
  {
   "cell_type": "code",
   "execution_count": 5,
   "metadata": {},
   "outputs": [
    {
     "data": {
      "text/plain": [
       "29"
      ]
     },
     "execution_count": 5,
     "metadata": {},
     "output_type": "execute_result"
    }
   ],
   "source": [
    "len(audioSampleList)"
   ]
  },
  {
   "cell_type": "code",
   "execution_count": 6,
   "metadata": {},
   "outputs": [],
   "source": [
    "li = []"
   ]
  },
  {
   "cell_type": "code",
   "execution_count": 11,
   "metadata": {},
   "outputs": [
    {
     "name": "stdout",
     "output_type": "stream",
     "text": [
      "0 384181__xiiisamples__filling-bucket-with-water.wav\n",
      "1 386917__yourzombiecrush__kettle-boiling.wav\n",
      "2 397263__thebraindrinker__field-recording-bathroom-water-clanging-metal.wav\n",
      "3 408296__vince2323__washing-hands-1.wav\n",
      "4 412843__inspectorj__boiling-water-large-a.wav\n",
      "5 415053__straget__brook-2.wav\n",
      "6 423924__outofphaze__weir-cu2.wav\n",
      "7 46743__rewired__18-water.wav\n",
      "8 66644__benboncan__mountain-stream-loopable.wav\n",
      "9 66787__mattj99__bubbling02.wav\n",
      "10 75306__camalbio__cave003.wav\n",
      "11 water-flowing1.wav\n"
     ]
    }
   ],
   "source": [
    "for i,audioSample in zip(range(len(audioSampleList)),audioSampleList):\n",
    "    print(i,audioSample)\n",
    "    song = AudioSegment.from_wav(\"data/\"+audioSample)\n",
    "    first_10_seconds = song[:10000]\n",
    "    li.append(song)\n",
    "    first_10_seconds.export(\"dataset/10sec_\"+audioSample, format=\"wav\")"
   ]
  }
 ],
 "metadata": {
  "kernelspec": {
   "display_name": "Python 3",
   "language": "python",
   "name": "python3"
  },
  "language_info": {
   "codemirror_mode": {
    "name": "ipython",
    "version": 3
   },
   "file_extension": ".py",
   "mimetype": "text/x-python",
   "name": "python",
   "nbconvert_exporter": "python",
   "pygments_lexer": "ipython3",
   "version": "3.6.4"
  }
 },
 "nbformat": 4,
 "nbformat_minor": 2
}
